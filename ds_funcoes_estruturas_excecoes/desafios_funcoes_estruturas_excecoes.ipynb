{
  "nbformat": 4,
  "nbformat_minor": 0,
  "metadata": {
    "colab": {
      "provenance": [],
      "toc_visible": true,
      "authorship_tag": "ABX9TyP8WY2Q/uB8FuR0Dty4EhJ9",
      "include_colab_link": true
    },
    "kernelspec": {
      "name": "python3",
      "display_name": "Python 3"
    },
    "language_info": {
      "name": "python"
    }
  },
  "cells": [
    {
      "cell_type": "markdown",
      "metadata": {
        "id": "view-in-github",
        "colab_type": "text"
      },
      "source": [
        "<a href=\"https://colab.research.google.com/github/pathilink/alura_formacao_engenharia_dados/blob/main/ds_funcoes_estruturas_excecoes/desafios_funcoes_estruturas_excecoes.ipynb\" target=\"_parent\"><img src=\"https://colab.research.google.com/assets/colab-badge.svg\" alt=\"Open In Colab\"/></a>"
      ]
    },
    {
      "cell_type": "markdown",
      "source": [
        "# Desafios"
      ],
      "metadata": {
        "id": "aXWLfvtIQ1qK"
      }
    },
    {
      "cell_type": "markdown",
      "source": [
        "## 01. Bibliotecas"
      ],
      "metadata": {
        "id": "xZ8o3m8RQ5S8"
      }
    },
    {
      "cell_type": "markdown",
      "source": [
        "1. Escreva um código para instalar a versão 3.7.1 da biblioteca matplotlib."
      ],
      "metadata": {
        "id": "MzdWGmbttWDo"
      }
    },
    {
      "cell_type": "code",
      "source": [
        "# !pip install matplotlib==3.7.1"
      ],
      "metadata": {
        "id": "YqPVFP-gtYHG"
      },
      "execution_count": null,
      "outputs": []
    },
    {
      "cell_type": "markdown",
      "source": [
        "2. Escreva um código para importar a biblioteca numpy com o alias np."
      ],
      "metadata": {
        "id": "BBEJhazEtqIh"
      }
    },
    {
      "cell_type": "code",
      "execution_count": null,
      "metadata": {
        "id": "3vWtkVzyP3AU"
      },
      "outputs": [],
      "source": [
        "import numpy as np"
      ]
    },
    {
      "cell_type": "markdown",
      "source": [
        "3. Crie um programa que leia a seguinte lista de números e escolha um número desta aleatoriamente."
      ],
      "metadata": {
        "id": "_7rLRz1-tzDv"
      }
    },
    {
      "cell_type": "code",
      "source": [
        "lista = [8, 12, 54, 23, 43, 1, 90, 87, 105, 77]"
      ],
      "metadata": {
        "id": "sJq3EeJqRLnd"
      },
      "execution_count": null,
      "outputs": []
    },
    {
      "cell_type": "code",
      "source": [
        "from random import choice\n",
        "\n",
        "choice(lista)"
      ],
      "metadata": {
        "colab": {
          "base_uri": "https://localhost:8080/"
        },
        "id": "RObROGToRLTH",
        "outputId": "2004feeb-0095-4721-81f1-ee9d75edac7d"
      },
      "execution_count": null,
      "outputs": [
        {
          "output_type": "execute_result",
          "data": {
            "text/plain": [
              "54"
            ]
          },
          "metadata": {},
          "execution_count": 4
        }
      ]
    },
    {
      "cell_type": "markdown",
      "source": [
        "4. Crie um programa que sorteia, aleatoriamente, um número inteiro positivo menor que 100."
      ],
      "metadata": {
        "id": "hAP3RTYmt26p"
      }
    },
    {
      "cell_type": "code",
      "source": [
        "import random\n",
        "\n",
        "random.randrange(100)"
      ],
      "metadata": {
        "id": "TGPYzhW3Ra16",
        "colab": {
          "base_uri": "https://localhost:8080/"
        },
        "outputId": "5c06f514-0bad-4af1-b675-3ccf44141830"
      },
      "execution_count": null,
      "outputs": [
        {
          "output_type": "execute_result",
          "data": {
            "text/plain": [
              "74"
            ]
          },
          "metadata": {},
          "execution_count": 6
        }
      ]
    },
    {
      "cell_type": "markdown",
      "source": [
        "5. Crie um programa que solicite à pessoa usuária digitar dois números inteiros e calcular a potência do 1º número elevado ao 2º."
      ],
      "metadata": {
        "id": "C372soxhxOlK"
      }
    },
    {
      "cell_type": "code",
      "source": [
        "n1 = int(input('Digite o 1º número inteiro:'))\n",
        "n2 = int(input('Digite o 2º número inteiro:'))\n",
        "pow(n1, n2)"
      ],
      "metadata": {
        "colab": {
          "base_uri": "https://localhost:8080/"
        },
        "id": "mAt_ZqWDw6PM",
        "outputId": "477bb911-868e-4e5a-84cf-6c3d161ce096"
      },
      "execution_count": null,
      "outputs": [
        {
          "name": "stdout",
          "output_type": "stream",
          "text": [
            "Digite o 1º número inteiro:2\n",
            "Digite o 2º número inteiro:2\n"
          ]
        },
        {
          "output_type": "execute_result",
          "data": {
            "text/plain": [
              "4"
            ]
          },
          "metadata": {},
          "execution_count": 7
        }
      ]
    },
    {
      "cell_type": "markdown",
      "source": [
        "6. Um programa deve ser escrito para sortear uma pessoa seguidora de uma rede social para ganhar um prêmio. A lista de participantes é numerada e devemos escolher aleatoriamente um número de acordo com a quantidade de participantes. Peça à pessoa usuária para fornecer o número de participantes do sorteio e devolva para ela o número sorteado."
      ],
      "metadata": {
        "id": "rhfY9Ps-z2QT"
      }
    },
    {
      "cell_type": "code",
      "source": [
        "total_participantes = int(input('Digite a quantidade de participantes da lista:'))\n",
        "print(f'O número sorteado é {random.randrange(total_participantes)}')"
      ],
      "metadata": {
        "colab": {
          "base_uri": "https://localhost:8080/"
        },
        "id": "8Ge6WIwZzm6o",
        "outputId": "257eed54-eb9e-4995-eb54-249625ea65b4"
      },
      "execution_count": null,
      "outputs": [
        {
          "output_type": "stream",
          "name": "stdout",
          "text": [
            "Digite a quantidade de participantes da lista:100\n",
            "O número sorteado é 18\n"
          ]
        }
      ]
    },
    {
      "cell_type": "markdown",
      "source": [
        "7. Você recebeu uma demanda para gerar números de token para acessar o aplicativo de uma empresa. O token precisa ser par e variar de 1000 até 9998. Escreva um código que solicita à pessoa usuária o seu nome e exibe uma mensagem junto a esse token gerado aleatoriamente."
      ],
      "metadata": {
        "id": "g-fTbrKC2vGC"
      }
    },
    {
      "cell_type": "code",
      "source": [
        "from random import randrange\n",
        "nome = input('Digite o seu nome:')\n",
        "token =  randrange(1000, 9998)\n",
        "\n",
        "print(f\"Olá, {nome}, o seu token de acesso é {token}! Seja bem-vindo(a)!\")"
      ],
      "metadata": {
        "colab": {
          "base_uri": "https://localhost:8080/"
        },
        "id": "-rHEqfU22Gxa",
        "outputId": "f0cb2072-0892-4cc3-a7fb-e355cc9d1f1a"
      },
      "execution_count": null,
      "outputs": [
        {
          "output_type": "stream",
          "name": "stdout",
          "text": [
            "Digite o seu nome:Pat\n",
            "Olá, Pat, o seu token de acesso é 8007! Seja bem-vindo(a)!\n"
          ]
        }
      ]
    },
    {
      "cell_type": "markdown",
      "source": [
        "8. Para diversificar e atrair novos(as) clientes, uma lanchonete criou um item misterioso em seu cardápio chamado \"salada de frutas surpresa\". Neste item, são escolhidas aleatoriamente 3 frutas de uma lista de 12 para compor a salada de frutas da pessoa cliente. Crie o código que faça essa seleção aleatória de acordo com a lista abaixo:"
      ],
      "metadata": {
        "id": "tLZQF16V3lDY"
      }
    },
    {
      "cell_type": "code",
      "source": [
        "frutas = [\"maçã\", \"banana\", \"uva\", \"pêra\",\n",
        "          \"manga\", \"coco\", \"melancia\", \"mamão\",\n",
        "          \"laranja\", \"abacaxi\", \"kiwi\", \"ameixa\"]\n",
        "\n",
        "from random import sample\n",
        "sample(frutas, 3)"
      ],
      "metadata": {
        "colab": {
          "base_uri": "https://localhost:8080/"
        },
        "id": "aJU3qn833aa_",
        "outputId": "eb3e4a50-f405-4bc9-c2ca-af966843cf77"
      },
      "execution_count": null,
      "outputs": [
        {
          "output_type": "execute_result",
          "data": {
            "text/plain": [
              "['ameixa', 'kiwi', 'mamão']"
            ]
          },
          "metadata": {},
          "execution_count": 12
        }
      ]
    },
    {
      "cell_type": "markdown",
      "source": [
        "9. Você recebeu um desafio de calcular a raiz quadrada de uma lista de números, identificando quais resultaram em um número inteiro. A lista é a seguinte:"
      ],
      "metadata": {
        "id": "gOILZuSt40tS"
      }
    },
    {
      "cell_type": "code",
      "source": [
        "numeros = [2, 8, 15, 23, 91, 112, 256]\n",
        "\n",
        "import math\n",
        "\n",
        "num = math.sqrt(choice(numeros))\n",
        "num_2 = math.sqrt(choice(numeros))\n",
        "\n",
        "print(f'{num} é inteiro? :', num // 1 == num)\n",
        "print(f'{num_2} é inteiro? :', num_2 // 1 == num_2)"
      ],
      "metadata": {
        "colab": {
          "base_uri": "https://localhost:8080/"
        },
        "id": "XuswQWYo50LL",
        "outputId": "437569ee-2d20-43dd-ead3-b6927ff21fc7"
      },
      "execution_count": null,
      "outputs": [
        {
          "output_type": "stream",
          "name": "stdout",
          "text": [
            "9.539392014169456 é inteiro? : False\n",
            "16.0 é inteiro? : True\n"
          ]
        }
      ]
    },
    {
      "cell_type": "code",
      "source": [
        "from math import sqrt\n",
        "\n",
        "numeros = [2, 8, 15, 23, 91, 112, 256]\n",
        "# iniciando uma lista vazia para receber as raízes\n",
        "raiz = []\n",
        "\n",
        "# laço for para calcular cada raiz da lista de números e adicionar a lista raiz\n",
        "for numero in numeros:\n",
        "  raiz.append(sqrt(numero))\n",
        "\n",
        "# laço for para ler a lista raiz e exibir um texto só quando a raiz for um valor inteiro\n",
        "for i in range(len(raiz)):\n",
        "  # condição para testar se um número é inteiro (Ex: 2.5 // 1 = 2 ... 2 != 2.5)\n",
        "  if raiz[i] // 1 == raiz[i]:\n",
        "    print(f\"O número {numeros[i]} possui raiz quadrada inteira igual a {int(raiz[i])}\")"
      ],
      "metadata": {
        "colab": {
          "base_uri": "https://localhost:8080/"
        },
        "id": "EsOj5yRe8V9s",
        "outputId": "627952a4-fc00-4a46-da74-5786b6da5237"
      },
      "execution_count": null,
      "outputs": [
        {
          "output_type": "stream",
          "name": "stdout",
          "text": [
            "O número 256 possui raiz quadrada inteira igual a 16\n"
          ]
        }
      ]
    },
    {
      "cell_type": "markdown",
      "source": [
        "10. Faça um programa para uma loja que vende grama para jardins. Essa loja trabalha com jardins circulares e o preço do metro quadrado da grama é de R$ 25,00. Peça à pessoa usuária o raio da área circular e devolva o valor em reais do quanto precisará pagar."
      ],
      "metadata": {
        "id": "iroL12yn7pCd"
      }
    },
    {
      "cell_type": "code",
      "source": [
        "# importando 2 métodos da mesma biblioteca\n",
        "from math import pi, pow\n",
        "\n",
        "raio = float(input(\"Digite o raio da área circular em metros: \"))\n",
        "# Cálculo da área com os métodos da math e obtenção do custo em reais\n",
        "area = pi*pow(raio,2)\n",
        "valor = area * 25.00\n",
        "\n",
        "# Exibição do cálculo e custo na tela. O round(n,2) arredonda qualquer número em 2 casas decimais\n",
        "print(f\"Você precisará pagar R$ {round(valor,2)} por uma área de {round(area,2)} metros de grama\")"
      ],
      "metadata": {
        "colab": {
          "base_uri": "https://localhost:8080/"
        },
        "id": "c2-Yd2ST35Nl",
        "outputId": "2bd8c78c-d611-4c3b-8893-6b5e1b13ecc6"
      },
      "execution_count": null,
      "outputs": [
        {
          "output_type": "stream",
          "name": "stdout",
          "text": [
            "Digite o raio da área circular em metros: 25\n",
            "Você precisará pagar R$ 49087.39 por uma área de 1963.5 metros de grama\n"
          ]
        }
      ]
    },
    {
      "cell_type": "markdown",
      "source": [
        "## 02. Funções"
      ],
      "metadata": {
        "id": "35F-Hqu98ngR"
      }
    },
    {
      "cell_type": "markdown",
      "source": [
        "1. Escreva um código que lê a lista abaixo e faça:\n",
        "\n",
        "* A leitura do tamanho da lista\n",
        "* A leitura do maior e menor valor\n",
        "* A soma dos valores da lista\n",
        "\n",
        "  Ao final exiba uma mensagem dizendo:\n",
        "  \"A lista possui [tam] números em que o maior número é [maior] e o menor número é [menor]. A soma dos valores presentes nela é igual a [soma]\""
      ],
      "metadata": {
        "id": "ATnGGrxr8upP"
      }
    },
    {
      "cell_type": "code",
      "source": [
        "lista = [16, 14, 63, 65, 17, 99, 70, 11, 20, 48, 79, 32, 17, 89, 12, 25, 66]"
      ],
      "metadata": {
        "id": "H25xvoheWPX7"
      },
      "execution_count": null,
      "outputs": []
    },
    {
      "cell_type": "code",
      "source": [
        "tam = len(lista)\n",
        "maior = max(lista)\n",
        "menor = min(lista)\n",
        "soma = sum(lista)\n",
        "\n",
        "print(f\"A lista possui {tam} números em que o maior número é {maior} e o menor número é {menor}. A soma dos valores presentes nela é igual a {soma}.\")"
      ],
      "metadata": {
        "colab": {
          "base_uri": "https://localhost:8080/"
        },
        "id": "mvbMKtELWQW3",
        "outputId": "e9c6e347-73bb-4f66-a098-1ebb975e006f"
      },
      "execution_count": null,
      "outputs": [
        {
          "output_type": "stream",
          "name": "stdout",
          "text": [
            "A lista possui 17 números em que o maior número é 99 e o menor número é 11. A soma dos valores presentes nela é igual a 743.\n"
          ]
        }
      ]
    },
    {
      "cell_type": "markdown",
      "source": [
        "2. Escreva uma função que gere a tabuada de um número inteiro de 1 a 10, de acordo com a escolha da pessoa usuária. Como exemplo, para o número 7, a tabuada deve ser mostrada no seguinte formato:\n",
        "\n",
        "  Tabuada do 7:\n",
        "\n",
        "  7 x 0 = 0 <br>\n",
        "  7 x 1 = 7 <br>\n",
        "  [...] <br>\n",
        "  7 x 10 = 70"
      ],
      "metadata": {
        "id": "xrDslpbcX_sv"
      }
    },
    {
      "cell_type": "code",
      "source": [
        "n = [0, 1, 2, 3, 4, 5, 6, 7, 8, 9, 10]\n",
        "\n",
        "tab = int(input(\"Digite o número da tabuada: \"))\n",
        "\n",
        "calc = map(lambda x: x * tab, n)\n",
        "\n",
        "print(list(calc))"
      ],
      "metadata": {
        "colab": {
          "base_uri": "https://localhost:8080/"
        },
        "id": "LVXaqSN9WQTI",
        "outputId": "09921d81-233f-4940-d4af-f8b94d98abec"
      },
      "execution_count": null,
      "outputs": [
        {
          "output_type": "stream",
          "name": "stdout",
          "text": [
            "Digite o número da tabuada: 7\n",
            "[0, 7, 14, 21, 28, 35, 42, 49, 56, 63, 70]\n"
          ]
        }
      ]
    },
    {
      "cell_type": "code",
      "source": [
        "# Requisitando o número\n",
        "num = int(input(\"Digite um número inteiro de 1 a 10:\"))\n",
        "\n",
        "# Gerando a função tabuada()\n",
        "def tabuada(numero: int):\n",
        "  print(f'Tabuada do {numero}:')\n",
        "  for i in range(11):\n",
        "    resultado = numero * i\n",
        "    print(f'{numero} x {i} = {resultado}')\n",
        "\n",
        "# lendo a tabuada do número escolhido\n",
        "tabuada(num)\n"
      ],
      "metadata": {
        "colab": {
          "base_uri": "https://localhost:8080/"
        },
        "id": "nxVzsUDPbH3V",
        "outputId": "456fc227-46bf-42b7-b34e-47f7f4cb845a"
      },
      "execution_count": null,
      "outputs": [
        {
          "output_type": "stream",
          "name": "stdout",
          "text": [
            "Digite um número inteiro de 1 a 10:7\n",
            "Tabuada do 7:\n",
            "7 x 0 = 0\n",
            "7 x 1 = 7\n",
            "7 x 2 = 14\n",
            "7 x 3 = 21\n",
            "7 x 4 = 28\n",
            "7 x 5 = 35\n",
            "7 x 6 = 42\n",
            "7 x 7 = 49\n",
            "7 x 8 = 56\n",
            "7 x 9 = 63\n",
            "7 x 10 = 70\n"
          ]
        }
      ]
    },
    {
      "cell_type": "markdown",
      "source": [
        "3. Crie a função que leia a lista abaixo e retorne uma nova lista com os múltiplos de 3:"
      ],
      "metadata": {
        "id": "jgkXCnlSetg_"
      }
    },
    {
      "cell_type": "code",
      "source": [
        "lista = [97, 80, 94, 88, 80, 1, 16, 53, 62, 32, 24, 99]\n",
        "\n",
        "mult_3 = []\n",
        "\n",
        "def multiplo(lista):\n",
        "  for l in lista:\n",
        "    if l % 3 == 0:\n",
        "      mult_3.append(l)\n",
        "  return mult_3\n",
        "\n",
        "mult_3 = multiplo(lista)\n",
        "mult_3"
      ],
      "metadata": {
        "colab": {
          "base_uri": "https://localhost:8080/"
        },
        "id": "zVOuLo-Re5u2",
        "outputId": "910720da-2002-41fa-c7e8-129b271808f9"
      },
      "execution_count": null,
      "outputs": [
        {
          "output_type": "execute_result",
          "data": {
            "text/plain": [
              "[24, 99]"
            ]
          },
          "metadata": {},
          "execution_count": 4
        }
      ]
    },
    {
      "cell_type": "markdown",
      "source": [
        "4. Crie uma lista dos quadrados dos números da seguinte lista [1, 2, 3, 4, 5, 6, 7, 8, 9, 10]. Lembre-se de utilizar as funções lambda e map() para calcular o quadrado de cada elemento da lista."
      ],
      "metadata": {
        "id": "EfIpYdobh8Nb"
      }
    },
    {
      "cell_type": "code",
      "source": [
        "lista = [1, 2, 3, 4, 5, 6, 7, 8, 9, 10]\n",
        "\n",
        "quadrados = map(lambda x: pow(x, 2), lista)\n",
        "\n",
        "resultado = list(quadrados)\n",
        "resultado"
      ],
      "metadata": {
        "colab": {
          "base_uri": "https://localhost:8080/"
        },
        "id": "WOtvei2nhdFD",
        "outputId": "2148fd52-e96f-41c1-87c6-59fb55411086"
      },
      "execution_count": null,
      "outputs": [
        {
          "output_type": "execute_result",
          "data": {
            "text/plain": [
              "[1, 4, 9, 16, 25, 36, 49, 64, 81, 100]"
            ]
          },
          "metadata": {},
          "execution_count": 5
        }
      ]
    },
    {
      "cell_type": "code",
      "source": [
        "help(pow)"
      ],
      "metadata": {
        "colab": {
          "base_uri": "https://localhost:8080/"
        },
        "id": "6bQ0UJ5UiSHk",
        "outputId": "641da530-2a3c-4d41-a5e2-ec078e37b3bb"
      },
      "execution_count": null,
      "outputs": [
        {
          "output_type": "stream",
          "name": "stdout",
          "text": [
            "Help on built-in function pow in module builtins:\n",
            "\n",
            "pow(base, exp, mod=None)\n",
            "    Equivalent to base**exp with 2 arguments or base**exp % mod with 3 arguments\n",
            "    \n",
            "    Some types, such as ints, are able to use a more efficient algorithm when\n",
            "    invoked using the three argument form.\n",
            "\n"
          ]
        }
      ]
    },
    {
      "cell_type": "markdown",
      "source": [
        "5. Você foi contratado(a) como cientista de dados de uma associação de skate. Para analisar as notas recebidas de skatistas em algumas competições ao longo do ano, você precisa criar um código que calcula a pontuação dos(as) atletas. Para isso, o seu código deve receber 5 notas digitadas pelas pessoas juradas.\n",
        "\n",
        "  Para calcular a pontuação de um(a) skatista, você precisa eliminar a maior e a menor pontuação dentre as 5 notas e tirar a média das 3 notas que sobraram. Retorne a média para apresentar o texto:\n",
        "\n",
        "  \"Nota da manobra: [media]\""
      ],
      "metadata": {
        "id": "999Mzf0ZilX8"
      }
    },
    {
      "cell_type": "code",
      "source": [
        "def nota_manobra():\n",
        "  n1 = float(input(\"Digite a 1ª nota: \"))\n",
        "  n2 = float(input(\"Digite a 2ª nota: \"))\n",
        "  n3 = float(input(\"Digite a 3ª nota: \"))\n",
        "  n4 = float(input(\"Digite a 4ª nota: \"))\n",
        "  n5 = float(input(\"Digite a 5ª nota: \"))\n",
        "\n",
        "  notas = [n1, n2, n3, n4, n5]\n",
        "  maior = max(notas)\n",
        "  menor = min(notas)\n",
        "  notas.remove(maior)\n",
        "  notas.remove(menor)\n",
        "\n",
        "  media = round(sum(notas) / len(notas), 1)\n",
        "\n",
        "  print(f\"Nota da manobra: {media}\")\n",
        "\n",
        "nota_manobra()"
      ],
      "metadata": {
        "colab": {
          "base_uri": "https://localhost:8080/"
        },
        "id": "2CROhaz2iThp",
        "outputId": "681fdd29-07ee-457b-a374-ec78d94a0e77"
      },
      "execution_count": null,
      "outputs": [
        {
          "output_type": "stream",
          "name": "stdout",
          "text": [
            "Digite a 1ª nota: 6\n",
            "Digite a 2ª nota: 4\n",
            "Digite a 3ª nota: 7\n",
            "Digite a 4ª nota: 7\n",
            "Digite a 5ª nota: 8\n",
            "Nota da manobra: 6.7\n"
          ]
        }
      ]
    },
    {
      "cell_type": "code",
      "source": [
        "# declarando a lista de notas\n",
        "notas = []\n",
        "# laço for para pedir as 5 notas e armazená-las na lista notas\n",
        "for i in range(1,6):\n",
        "  nota = float(input(f\"Digite a {i}ª nota: \"))\n",
        "  notas.append(nota)\n",
        "\n",
        "# Função para remover a maior e menor nota e retornar a média das notas restantes\n",
        "def media(lista):\n",
        "  lista.remove(max(lista))\n",
        "  lista.remove(min(lista))\n",
        "  return sum(lista) / len(lista)\n",
        "\n",
        "# Chamando a função e imprimindo a nota da(o) skatista\n",
        "media = media(notas)\n",
        "print(f\"Nota da manobra: {round(media, 1)}\") 7"
      ],
      "metadata": {
        "colab": {
          "base_uri": "https://localhost:8080/"
        },
        "id": "8LliyFO1sVB2",
        "outputId": "08a35a32-1686-47b3-e6fb-dc35e97a2220"
      },
      "execution_count": null,
      "outputs": [
        {
          "output_type": "stream",
          "name": "stdout",
          "text": [
            "Digite a 1ª nota: 6\n",
            "Digite a 2ª nota: 4\n",
            "Digite a 3ª nota: 7\n",
            "Digite a 4ª nota: 7\n",
            "Digite a 5ª nota: 8\n",
            "Nota da manobra: 6.7\n"
          ]
        }
      ]
    },
    {
      "cell_type": "markdown",
      "source": [
        "6. Para atender a uma demanda de uma instituição de ensino para a análise do desempenho de seus(suas) estudantes, você precisa criar uma função que receba uma lista de 4 notas e retorne:\n",
        "\n",
        "  maior nota <br>\n",
        "  menor nota <br>\n",
        "  média <br>\n",
        "  situação (Aprovado(a) ou Reprovado(a))\n",
        "\n",
        "  Para testar o comportamento da função, os dados podem ser exibidos em um texto:\n",
        "  \n",
        "  \"O(a) estudante obteve uma média de [media], com a sua maior nota de [maior] pontos e a menor nota de [menor] pontos e foi [situacao]\""
      ],
      "metadata": {
        "id": "z6nTCcqHsEb1"
      }
    },
    {
      "cell_type": "code",
      "source": [
        "# declarando a lista de notas\n",
        "notas = []\n",
        "# laço for para pedir as 4 notas e armazená-las na lista notas\n",
        "for i in range(1,5):\n",
        "  nota = float(input(f\"Digite a {i}ª nota: \"))\n",
        "  notas.append(nota)\n",
        "\n",
        "def cadastro(lista):\n",
        "\n",
        "  maior = max(lista)\n",
        "  menor = min(lista)\n",
        "  media = sum(notas) / len(notas)\n",
        "  if media >= 5:\n",
        "    situacao = \"Aprovado(a)\"\n",
        "  else:\n",
        "    situacao = \"Reprovado(a)\"\n",
        "  return (maior, menor, media, situacao)\n",
        "\n",
        "maior, menor, media, situacao = cadastro(notas)\n",
        "print(f\"O(a) estudante obteve uma média de {media}, com a sua maior nota de {maior} pontos e a menor nota de {menor} pontos e foi {situacao}.\")\n",
        "\n",
        "\n",
        "cadastro(notas)"
      ],
      "metadata": {
        "colab": {
          "base_uri": "https://localhost:8080/"
        },
        "id": "tjO2_v-yknx7",
        "outputId": "fc055eb7-7406-4940-8218-6cb2b87716cc"
      },
      "execution_count": null,
      "outputs": [
        {
          "output_type": "stream",
          "name": "stdout",
          "text": [
            "Digite a 1ª nota: 6\n",
            "Digite a 2ª nota: 4\n",
            "Digite a 3ª nota: 7\n",
            "Digite a 4ª nota: 8\n",
            "O(a) estudante obteve uma média de 6.25, com a sua maior nota de 8.0 pontos e a menor nota de 4.0 pontos e foi Aprovado(a).\n"
          ]
        },
        {
          "output_type": "execute_result",
          "data": {
            "text/plain": [
              "(8.0, 4.0, 6.25, 'Aprovado(a)')"
            ]
          },
          "metadata": {},
          "execution_count": 11
        }
      ]
    },
    {
      "cell_type": "markdown",
      "source": [
        "7. Você recebeu uma demanda para tratar 2 listas com os nomes e sobrenomes de cada estudante concatenando-as para apresentar seus nomes completos na forma Nome Sobrenome. As listas são:\n",
        "\n",
        "  nomes = [\"joão\", \"MaRia\", \"JOSÉ\"] <br>\n",
        "  sobrenomes = [\"SILVA\", \"souza\", \"Tavares\"]\n",
        "\n",
        "  O texto exibido ao fim deve ser parecido com:\n",
        "\n",
        "  \"Nome completo: Ana Silva\""
      ],
      "metadata": {
        "id": "NM8sArWlvDhW"
      }
    },
    {
      "cell_type": "code",
      "source": [
        "# Nomes dos estudantes\n",
        "nomes = [\"joão\", \"MaRia\", \"JOSÉ\"]\n",
        "sobrenomes = [\"SILVA\", \"souza\", \"Tavares\"]\n",
        "\n",
        "# Função lambda que recebe duas listas e itera em cada uma concatenando seu nome e sobrenome\n",
        "# na forma desejada\n",
        "nome_completo = map(lambda nome, sobrenome: f'{nome.title()} {sobrenome.title()}', nomes, sobrenomes)\n",
        "\n",
        "# Leitura do objeto mapa(iterável)\n",
        "for n in nome_completo:\n",
        "  print(f'Nome completo: {n}')"
      ],
      "metadata": {
        "id": "sbJk3t1hkntp",
        "colab": {
          "base_uri": "https://localhost:8080/"
        },
        "outputId": "7763c2d9-08df-40a0-fa97-3b963972d424"
      },
      "execution_count": null,
      "outputs": [
        {
          "output_type": "stream",
          "name": "stdout",
          "text": [
            "Nome completo: João Silva\n",
            "Nome completo: Maria Souza\n",
            "Nome completo: José Tavares\n"
          ]
        }
      ]
    },
    {
      "cell_type": "markdown",
      "source": [
        "8. Como cientista de dados em um time de futebol, você precisa implementar novas formas de coleta de dados sobre o desempenho de jogadores e do time como um todo. Sua primeira ação é criar uma forma de calcular a pontuação do time no campeonato nacional a partir dos dados de gols marcados e sofridos em cada jogo.\n",
        "\n",
        "  Escreva uma função chamada calcula_pontos que recebe como parâmetros duas listas de números inteiros, representando os gols marcados e sofridos pelo time em cada partida do campeonato. A função deve retornar a pontuação do time e o aproveitamento em percentual, levando em consideração que a vitória vale 3 pontos, o empate vale 1 ponto e a derrota 0 pontos.\n",
        "\n",
        "  Observação: se a quantidade de gols marcados numa partida for maior que a de sofridos, o time venceu. Caso seja igual, o time empatou e se for menor, o time perdeu. Para calcular o aproveitamento devemos fazer a razão entre a pontuação do time pela pontuação máxima que ele poderia receber.\n",
        "\n",
        "  Para teste, utilize as seguintes listas de gols marcados e sofridos:\n",
        "\n",
        "  gols_marcados = [2, 1, 3, 1, 0] <br>\n",
        "  gols_sofridos = [1, 2, 2, 1, 3]"
      ],
      "metadata": {
        "id": "D3eXjNY1wT2w"
      }
    },
    {
      "cell_type": "code",
      "source": [
        "gols_marcados = [2, 1, 3, 1, 0]\n",
        "gols_sofridos = [1, 2, 2, 1, 3]\n",
        "\n",
        "def calcula_pontos(gols_marcados, gols_sofridos):\n",
        "  pontos = 0\n",
        "  for i in range(len(gols_marcados)):\n",
        "    if gols_marcados[i] > gols_sofridos[i]:\n",
        "      pontos += 3\n",
        "    elif gols_marcados[i] == gols_sofridos[i]:\n",
        "      pontos += 1\n",
        "  aprov = 100 * pontos / (len(gols_marcados) * 3)\n",
        "  return (pontos, aprov)\n",
        "\n",
        "pontos, aprov = calcula_pontos(gols_marcados, gols_sofridos)\n",
        "print(f\"A pontuação do time foi de {pontos} e seu aproveitamento foi de {round(aprov)}%\")"
      ],
      "metadata": {
        "colab": {
          "base_uri": "https://localhost:8080/"
        },
        "id": "Y0VPu3KR3OO2",
        "outputId": "fd90463e-d36f-46b3-8d95-72f973c749c7"
      },
      "execution_count": null,
      "outputs": [
        {
          "output_type": "stream",
          "name": "stdout",
          "text": [
            "A pontuação do time foi de 7 e seu aproveitamento foi de 47%\n"
          ]
        }
      ]
    },
    {
      "cell_type": "markdown",
      "source": [
        "9. Você recebeu o desafio de criar um código que calcula os gastos de uma viagem para um das quatro cidades partindo de Recife, sendo elas: Salvador, Fortaleza, Natal e Aracaju.\n",
        "\n",
        "  O custo da diária do hotel é de 150 reais em todas elas e o consumo de gasolina na viagem de carro é de 14 km/l, sendo que o valor da gasolina é de 5 reais o litro. O gastos com passeios e alimentação a se fazer em cada uma delas por dia seria de [200, 400, 250, 300], respectivamente.\n",
        "\n",
        "  Sabendo que as distâncias entre Recife e cada uma das cidades é de aproximadamente [850, 800, 300, 550] km, crie três funções nas quais: a 1ª função calcule os gastos com hotel (gasto_hotel), a 2ª calcule os gastos com a gasolina (gasto_gasolina) e a 3ª os gastos com passeio e alimentação (gasto_passeio).\n",
        "\n",
        "  Para testar, simule uma viagem de 3 dias para Salvador partindo de Recife. Considere a viagem de ida e volta de carro."
      ],
      "metadata": {
        "id": "vieklUoB4lEB"
      }
    },
    {
      "cell_type": "code",
      "source": [
        "dias = int(input(\"Quantas diárias? \"))\n",
        "cidade = input(\"Qual a cidade? [Salvador, Fortaleza, Natal ou Aracaju]: \")\n",
        "distancias = [850, 800, 300, 550]\n",
        "passeio = [200, 400, 250, 300]\n",
        "km_l = 14\n",
        "gasolina = 5\n",
        "\n",
        "def gasto_hotel(dias):\n",
        "    return 150 * dias\n",
        "\n",
        "def gasto_gasolina(cidade):\n",
        "    if cidade == \"Salvador\":\n",
        "        return (2 * distancias[0] * gasolina) / km_l\n",
        "    elif cidade == \"Fortaleza\":\n",
        "        return (2 * distancias[1] * gasolina) / km_l\n",
        "    elif cidade == \"Natal\":\n",
        "        return (2 * distancias[2] * gasolina) / km_l\n",
        "    elif cidade == \"Aracaju\":\n",
        "        return (2 * distancias[3] * gasolina) / km_l\n",
        "\n",
        "def gasto_passeio(cidade, dias):\n",
        "    if cidade==\"Salvador\":\n",
        "        return passeio[0] * dias\n",
        "    elif cidade==\"Fortaleza\":\n",
        "        return passeio[1] * dias\n",
        "    elif cidade==\"Natal\":\n",
        "        return passeio[2] * dias\n",
        "    elif cidade==\"Aracaju\":\n",
        "        return passeio[3] * dias\n",
        "\n",
        "gastos = gasto_hotel(dias) + gasto_gasolina(cidade) + gasto_passeio(cidade, dias)\n",
        "print(f\"Com base nos gastos definidos, uma viagem de {dias} dias para {cidade} saindo de Recife custaria {round(gastos, 2)} reais\")"
      ],
      "metadata": {
        "colab": {
          "base_uri": "https://localhost:8080/"
        },
        "id": "bXDMPLr_4rC0",
        "outputId": "15a2c26f-1774-4d86-a798-8e512b2abdd0"
      },
      "execution_count": null,
      "outputs": [
        {
          "output_type": "stream",
          "name": "stdout",
          "text": [
            "Quantas diárias? 2\n",
            "Qual a cidade? [Salvador, Fortaleza, Natal ou Aracaju]: Salvador\n",
            "Com base nos gastos definidos, uma viagem de 2 dias para Salvador saindo de Recife custaria 1307.14 reais\n"
          ]
        }
      ]
    },
    {
      "cell_type": "markdown",
      "source": [
        "10. Você iniciou um estágio em uma empresa que trabalha com processamento de linguagem natural (NLP). Sua líder requisitou que você criasse um trecho de código que recebe uma frase digitada pela pessoa usuária e filtre apenas as palavras com tamanho maior ou igual a 5, exibindo-as em uma lista. Essa demanda é voltada para a análise do padrão de comportamento de pessoas na escrita de palavras acima dessa quantidade de caracteres.\n",
        "\n",
        "  Dica: utilize as funções lambda e filter() para filtrar essas palavras. Lembrando que a função embutida filter() recebe uma função (no nosso exemplo uma função lambda) e filtra um iterável de acordo com a função. Para tratar a frase use replace() para trocar a ',' '.', '!' e '?' por espaço.\n",
        "\n",
        "  Use a frase \"Aprender Python aqui na Alura é muito bom\" para testar o código."
      ],
      "metadata": {
        "id": "-B9rbbMH4uoI"
      }
    },
    {
      "cell_type": "code",
      "source": [
        "# Requisitando uma frase e separando-a pelos espaços. Usando replace para trocar\n",
        "# pontuações por espaço.\n",
        "frase = input(\"Digite uma frase: \")\n",
        "frase = frase.replace(',',' ').replace('.',' ').replace('!',' ').replace('?',' ').split()\n",
        "\n",
        "# Filtrando a frase no formato de lista, passando para a lista tamanho\n",
        "# apenas as palavras com 5 ou mais caracteres e imprimindo-a na tela\n",
        "tamanho = list(filter(lambda x: len(x) >= 5, frase))\n",
        "print(tamanho)"
      ],
      "metadata": {
        "colab": {
          "base_uri": "https://localhost:8080/"
        },
        "id": "Jn19tgO93OKu",
        "outputId": "f754dda6-42ba-4128-bf80-2822c996a4d2"
      },
      "execution_count": null,
      "outputs": [
        {
          "output_type": "stream",
          "name": "stdout",
          "text": [
            "Digite uma frase: Com base nos gastos definidos, uma viagem de 2 dias para Salvador saindo de Recife custaria 1307.14 reais\n",
            "['gastos', 'definidos', 'viagem', 'Salvador', 'saindo', 'Recife', 'custaria', 'reais']\n"
          ]
        }
      ]
    },
    {
      "cell_type": "markdown",
      "source": [
        "## Estrutura de dados compostas"
      ],
      "metadata": {
        "id": "zhZ-IrEajl8H"
      }
    },
    {
      "cell_type": "markdown",
      "source": [
        "1. Crie um código para imprimir a soma dos elementos de cada uma das listas contidas na seguinte lista:"
      ],
      "metadata": {
        "id": "W0z2vcdDPtKl"
      }
    },
    {
      "cell_type": "code",
      "source": [
        "lista_de_listas = [[4,6,5,9], [1,0,7,2], [3,4,1,8]]\n",
        "\n",
        "for lista in lista_de_listas:\n",
        "    print(sum(lista))"
      ],
      "metadata": {
        "id": "IFZPtTaymKi4",
        "colab": {
          "base_uri": "https://localhost:8080/"
        },
        "outputId": "ef832274-ca3e-474d-9124-e0d79a757669"
      },
      "execution_count": null,
      "outputs": [
        {
          "output_type": "stream",
          "name": "stdout",
          "text": [
            "24\n",
            "10\n",
            "16\n"
          ]
        }
      ]
    },
    {
      "cell_type": "markdown",
      "source": [
        "2. Crie um código para gerar uma lista que armazena o terceiro elemento de cada tupla contida na seguinte lista de tuplas:"
      ],
      "metadata": {
        "id": "tx2XdL-kPyBI"
      }
    },
    {
      "cell_type": "code",
      "source": [
        "lista_de_tuplas = [('Pedro', 1.74, 81), ('Júlia', 1.65, 67), ('Otávio', 1.81, 83)]\n",
        "\n",
        "lista = []\n",
        "for tupla in lista_de_tuplas:\n",
        "    lista.append(tupla[2])\n",
        "print(lista)"
      ],
      "metadata": {
        "id": "c1jYQzdHPzv_",
        "colab": {
          "base_uri": "https://localhost:8080/"
        },
        "outputId": "db91e374-9976-4977-c592-a3e0b65f83d7"
      },
      "execution_count": null,
      "outputs": [
        {
          "output_type": "stream",
          "name": "stdout",
          "text": [
            "[81, 67, 83]\n"
          ]
        }
      ]
    },
    {
      "cell_type": "markdown",
      "source": [
        "3. A partir da lista: lista = ['Pedro', 'Júlia', 'Otávio', 'Eduardo'], crie um código para gerar uma lista de tuplas em que cada tupla tenha o primeiro elemento como a posição do nome na lista original e o segundo elemento sendo o próprio nome."
      ],
      "metadata": {
        "id": "jdrSR1wmP0km"
      }
    },
    {
      "cell_type": "code",
      "source": [
        "lista = ['Pedro', 'Júlia', 'Otávio', 'Eduardo']\n",
        "\n",
        "lista_de_tuplas = []\n",
        "for i in range(len(lista)):\n",
        "    lista_de_tuplas.append((i, lista[i]))\n",
        "print(lista_de_tuplas)"
      ],
      "metadata": {
        "colab": {
          "base_uri": "https://localhost:8080/"
        },
        "id": "sBzKrz3BMvPM",
        "outputId": "308489a8-ccf4-4f8f-f68f-85cad086c56f"
      },
      "execution_count": null,
      "outputs": [
        {
          "output_type": "stream",
          "name": "stdout",
          "text": [
            "[(0, 'Pedro'), (1, 'Júlia'), (2, 'Otávio'), (3, 'Eduardo')]\n"
          ]
        }
      ]
    },
    {
      "cell_type": "markdown",
      "source": [
        "4. Crie uma lista usando o list comprehension que armazena somente o valor numérico de cada tupla caso o primeiro elemento seja 'Apartamento', a partir da seguinte lista de tuplas:"
      ],
      "metadata": {
        "id": "mB0TuA4dP3fD"
      }
    },
    {
      "cell_type": "code",
      "source": [
        "aluguel = [('Apartamento', 1700), ('Apartamento', 1400), ('Casa', 2150), ('Apartamento', 1900), ('Casa', 1100)]\n",
        "\n",
        "lista = [tupla[1] for tupla in aluguel if tupla[0]== 'Apartamento']\n",
        "print(lista)"
      ],
      "metadata": {
        "id": "FBfpsZjKP7jS",
        "colab": {
          "base_uri": "https://localhost:8080/"
        },
        "outputId": "94a976ee-178d-486e-a093-1a3234659ec9"
      },
      "execution_count": null,
      "outputs": [
        {
          "output_type": "stream",
          "name": "stdout",
          "text": [
            "[1700, 1400, 1900]\n"
          ]
        }
      ]
    },
    {
      "cell_type": "markdown",
      "source": [
        "5. Crie um dicionário usando o dict comprehension em que as chaves estão na lista meses = ['Jan', 'Fev', 'Mar', 'Abr', 'Mai', 'Jun', 'Jul', 'Ago', 'Set', 'Out', 'Nov', 'Dez'] e os valores estão em despesa = [860, 490, 1010, 780, 900, 630, 590, 770, 620, 560, 840, 360]."
      ],
      "metadata": {
        "id": "zWp1Pw01QAP5"
      }
    },
    {
      "cell_type": "code",
      "source": [
        "meses = ['Jan', 'Fev', 'Mar', 'Abr', 'Mai', 'Jun', 'Jul', 'Ago', 'Set', 'Out', 'Nov', 'Dez']\n",
        "despesa = [860, 490, 1010, 780, 900, 630, 590, 770, 620, 560, 840, 360]\n",
        "\n",
        "dicionario = {meses[i]: despesa[i] for i in range(len(meses))}\n",
        "print(dicionario)"
      ],
      "metadata": {
        "colab": {
          "base_uri": "https://localhost:8080/"
        },
        "id": "cS1aDmQiNK9K",
        "outputId": "5317396e-c538-457f-fef2-b577efd8b046"
      },
      "execution_count": null,
      "outputs": [
        {
          "output_type": "stream",
          "name": "stdout",
          "text": [
            "{'Jan': 860, 'Fev': 490, 'Mar': 1010, 'Abr': 780, 'Mai': 900, 'Jun': 630, 'Jul': 590, 'Ago': 770, 'Set': 620, 'Out': 560, 'Nov': 840, 'Dez': 360}\n"
          ]
        }
      ]
    },
    {
      "cell_type": "markdown",
      "source": [
        "6. Uma loja possui um banco de dados com a informação de venda de cada representante e de cada ano e precisa filtrar somente os dados do ano 2022 com venda maior do que 6000. A loja forneceu uma amostra contendo apenas as colunas com os anos e os valores de venda para que você ajude a realizar a filtragem dos dados a partir de um código:\n",
        "\n",
        "  Crie uma lista usando list comprehension para filtrar os valores de 2022 e que sejam maiores que 6000."
      ],
      "metadata": {
        "id": "G0dAf7SLQDxE"
      }
    },
    {
      "cell_type": "code",
      "source": [
        "vendas = [('2023', 4093), ('2021', 4320), ('2021', 5959), ('2022', 8883), ('2023', 9859), ('2022', 5141), ('2022', 7688), ('2022', 9544), ('2023', 4794), ('2021', 7178), ('2022', 3030), ('2021', 7471), ('2022', 4226), ('2022', 8190), ('2021', 9680), ('2022', 5616)]\n",
        "\n",
        "filtro = [tupla[1] for tupla in vendas if tupla[0] == '2022' and tupla[1] > 6000]\n",
        "print(filtro)"
      ],
      "metadata": {
        "id": "4xQn1c2HQM2t",
        "colab": {
          "base_uri": "https://localhost:8080/"
        },
        "outputId": "79a3afeb-96c0-4f81-ee5a-ba8027644d82"
      },
      "execution_count": null,
      "outputs": [
        {
          "output_type": "stream",
          "name": "stdout",
          "text": [
            "[8883, 7688, 9544, 8190]\n"
          ]
        }
      ]
    },
    {
      "cell_type": "markdown",
      "source": [
        "7. Uma clínica analisa dados de pacientes e armazena o valor numérico da glicose em um banco de dados e gostaria de rotular os dados da seguinte maneira:\n",
        "\n",
        "* Glicose igual ou inferior a 70: 'Hipoglicemia'\n",
        "* Glicose entre 70 a 99: 'Normal'\n",
        "* Glicose entre 100 e 125: 'Alterada'\n",
        "* Glicose superior a 125: 'Diabetes'\n",
        "  \n",
        "  A clínica disponibilizou parte dos valores e sua tarefa é criar uma lista de tuplas usando list comprehension contendo o rótulo e o valor da glicemia em cada tupla."
      ],
      "metadata": {
        "id": "bAJMOkgPQP3c"
      }
    },
    {
      "cell_type": "code",
      "source": [
        "glicemia = [129, 82, 60, 97, 101, 65, 62, 167, 87, 53, 58, 92, 66, 120, 109, 62, 86, 96, 103, 88, 155, 52, 89, 73]\n",
        "\n",
        "rotulos = [('Hipoglicemia', glicose) if glicose <= 70 else ('Normal', glicose) if glicose < 100 else ('Alterada', glicose) if glicose < 125 else ('Diabetes', glicose) for glicose in glicemia]\n",
        "print(rotulos)"
      ],
      "metadata": {
        "id": "xDG8mzAyQfvG",
        "colab": {
          "base_uri": "https://localhost:8080/"
        },
        "outputId": "67391270-411f-44ce-a2b5-7cf36d448889"
      },
      "execution_count": null,
      "outputs": [
        {
          "output_type": "stream",
          "name": "stdout",
          "text": [
            "[('Diabetes', 129), ('Normal', 82), ('Hipoglicemia', 60), ('Normal', 97), ('Alterada', 101), ('Hipoglicemia', 65), ('Hipoglicemia', 62), ('Diabetes', 167), ('Normal', 87), ('Hipoglicemia', 53), ('Hipoglicemia', 58), ('Normal', 92), ('Hipoglicemia', 66), ('Alterada', 120), ('Alterada', 109), ('Hipoglicemia', 62), ('Normal', 86), ('Normal', 96), ('Alterada', 103), ('Normal', 88), ('Diabetes', 155), ('Hipoglicemia', 52), ('Normal', 89), ('Normal', 73)]\n"
          ]
        }
      ]
    },
    {
      "cell_type": "markdown",
      "source": [
        "8. Um e-commerce possui as informações de id de venda, quantidade vendida e preço do produto divididos nas seguintes listas:\n",
        "\n",
        "  O e-commerce precisa estruturar esses dados em uma tabela contendo o valor total da venda, que é obtida multiplicando a quantidade pelo preço unitário. Além disso, a tabela precisa conter um cabeçalho indicando as colunas: 'id', 'quantidade', 'preco' e 'total'.\n",
        "\n",
        "  Crie uma lista de tuplas em que cada tupla tenha id, quantidade, preço e valor total, na qual a primeira tupla é o cabeçalho da tabela."
      ],
      "metadata": {
        "id": "h-DOkDACQhNh"
      }
    },
    {
      "cell_type": "code",
      "source": [
        "id = [0, 1, 2, 3, 4, 5, 6, 7, 8, 9]\n",
        "quantidade = [15, 12, 1, 15, 2, 11, 2, 12, 2, 4]\n",
        "preco = [93.0, 102.0, 18.0, 41.0, 122.0, 14.0, 71.0, 48.0, 14.0, 144.0]\n",
        "\n",
        "tabela = [('id', 'quantidade', 'preco', 'total')]\n",
        "tabela += [(id[i], quantidade[i], preco[i], quantidade[i]*preco[i]) for i in range(len(id))]\n",
        "\n",
        "tabela"
      ],
      "metadata": {
        "id": "gN7eSCl3Qplp",
        "colab": {
          "base_uri": "https://localhost:8080/"
        },
        "outputId": "44ac0214-f4f9-467d-ffea-6296eb9bc40d"
      },
      "execution_count": null,
      "outputs": [
        {
          "output_type": "execute_result",
          "data": {
            "text/plain": [
              "[('id', 'quantidade', 'preco', 'total'),\n",
              " (0, 15, 93.0, 1395.0),\n",
              " (1, 12, 102.0, 1224.0),\n",
              " (2, 1, 18.0, 18.0),\n",
              " (3, 15, 41.0, 615.0),\n",
              " (4, 2, 122.0, 244.0),\n",
              " (5, 11, 14.0, 154.0),\n",
              " (6, 2, 71.0, 142.0),\n",
              " (7, 12, 48.0, 576.0),\n",
              " (8, 2, 14.0, 28.0),\n",
              " (9, 4, 144.0, 576.0)]"
            ]
          },
          "metadata": {},
          "execution_count": 9
        }
      ]
    },
    {
      "cell_type": "markdown",
      "source": [
        "9. Uma empresa possui filiais espalhadas nos Estados da região Sudeste do Brasil. Em uma das tabelas de cadastro das filiais há uma coluna contendo a informação de qual é o Estado a que pertence: estados = ['SP', 'ES', 'MG', 'MG', 'SP', 'MG', 'ES', 'ES', 'ES', 'SP', 'SP', 'MG', 'ES', 'SP', 'RJ', 'MG', 'RJ', 'SP', 'MG', 'SP', 'ES', 'SP', 'MG'].\n",
        "\n",
        "  A empresa sempre está abrindo novas filiais, de modo que a tabela está constantemente recebendo novos registros e o gestor gostaria de possuir a informação atualizada da quantidade de filiais em cada Estado.\n",
        "\n",
        "  A partir da coluna com a informação dos Estados, crie um dicionário usando dict comprehension com a chave sendo o nome de um Estado e o valor sendo a contagem de vezes em que o Estado aparece na lista.\n",
        "\n",
        "  Dica: Você pode fazer um passo intermediário para gerar uma lista de listas em que cada uma das listas possui o nome de apenas um Estado com valores repetidos.\n",
        "\n"
      ],
      "metadata": {
        "id": "1md8LgPNQvGq"
      }
    },
    {
      "cell_type": "code",
      "source": [
        "estados = ['SP', 'ES', 'MG', 'MG', 'SP', 'MG', 'ES', 'ES', 'ES', 'SP', 'SP', 'MG', 'ES', 'SP', 'RJ', 'MG', 'RJ', 'SP', 'MG', 'SP', 'ES', 'SP', 'MG']\n",
        "\n",
        "# Armazenando os estados sem repetição de valor\n",
        "estados_unicos = list(set(estados))\n",
        "\n",
        "# Criando uma lista de listas com valores repetidos de cada estado\n",
        "lista_de_listas = []\n",
        "for estado in estados_unicos:\n",
        "    lista = [uf for uf in estados if uf == estado]\n",
        "    lista_de_listas.append(lista)\n",
        "print(lista_de_listas)\n",
        "\n",
        "# Criando um dicionário em que a chave é o nome de cada estado único e o valor é a contagem de elementos\n",
        "contagem_valores = {estados_unicos[i]: len(lista_de_listas[i]) for i in range(len(estados_unicos))}\n",
        "print(contagem_valores)"
      ],
      "metadata": {
        "colab": {
          "base_uri": "https://localhost:8080/"
        },
        "id": "qDfFpicvSZvC",
        "outputId": "7ac2e1dc-fb87-4dc6-f6bb-8b93c476cd7e"
      },
      "execution_count": null,
      "outputs": [
        {
          "output_type": "stream",
          "name": "stdout",
          "text": [
            "[['MG', 'MG', 'MG', 'MG', 'MG', 'MG', 'MG'], ['RJ', 'RJ'], ['ES', 'ES', 'ES', 'ES', 'ES', 'ES'], ['SP', 'SP', 'SP', 'SP', 'SP', 'SP', 'SP', 'SP']]\n",
            "{'MG': 7, 'RJ': 2, 'ES': 6, 'SP': 8}\n"
          ]
        }
      ]
    },
    {
      "cell_type": "markdown",
      "source": [
        "10. Nessa mesma tabela de cadastro de filiais, há uma coluna com as informações da quantidade de pessoas colaboradoras e o(a) gestor(a) gostaria de ter um agrupamento da soma dessas pessoas para cada estado. As informações contidas na tabela são:\n",
        "\n",
        "  A partir da lista de tuplas, crie um dicionário em que as chaves são os nomes dos Estados únicos e os valores são as listas com o número de colaboradores(as) referentes ao Estado. Crie também um dicionário em que as chaves são os nomes dos Estados e os valores são a soma de colaboradores(as) por Estado.\n",
        "\n",
        "  Dica: Você pode fazer um passo intermediário para gerar uma lista de listas em que cada uma das listas possui apenas os valores numéricos de funcionários(as) de cada Estado."
      ],
      "metadata": {
        "id": "tusUY-R9Q1u8"
      }
    },
    {
      "cell_type": "code",
      "source": [
        "funcionarios = [('SP', 16), ('ES', 8), ('MG', 9), ('MG', 6), ('SP', 10), ('MG', 4), ('ES',9), ('ES', 7), ('ES', 12), ('SP', 7), ('SP', 11), ('MG',8), ('ES',8), ('SP',9), ('RJ', 13), ('MG', 5), ('RJ', 9), ('SP', 12), ('MG', 10), ('SP', 7), ('ES', 14), ('SP', 10), ('MG', 12)]\n",
        "\n",
        "# Armazenando os estados sem repetição de valor\n",
        "estados_unicos = list(set([tupla[0] for tupla in funcionarios]))\n",
        "\n",
        "# Criando uma lista de listas com valores de funcionários de cada estado\n",
        "lista_de_listas = []\n",
        "for estado in estados_unicos:\n",
        "    lista = [tupla[1] for tupla in funcionarios if tupla[0] == estado]\n",
        "    lista_de_listas.append(lista)\n",
        "print(lista_de_listas)\n",
        "\n",
        "# Criando um dicionário com dados agrupados de funcionário por estado\n",
        "agrupamento_por_estado = {estados_unicos[i]: lista_de_listas[i] for i in range(len(estados_unicos))}\n",
        "print(agrupamento_por_estado)\n",
        "\n",
        "# Criando um dicionário com a soma de funcionários por estado\n",
        "soma_por_estado = {estados_unicos[i]: sum(lista_de_listas[i]) for i in range(len(estados_unicos))}\n",
        "print(soma_por_estado)"
      ],
      "metadata": {
        "id": "k1Ns3Vo5Q_cU",
        "colab": {
          "base_uri": "https://localhost:8080/"
        },
        "outputId": "b50afa08-99d1-479b-8bbd-fd820c36c066"
      },
      "execution_count": null,
      "outputs": [
        {
          "output_type": "stream",
          "name": "stdout",
          "text": [
            "[[9, 6, 4, 8, 5, 10, 12], [13, 9], [8, 9, 7, 12, 8, 14], [16, 10, 7, 11, 9, 12, 7, 10]]\n",
            "{'MG': [9, 6, 4, 8, 5, 10, 12], 'RJ': [13, 9], 'ES': [8, 9, 7, 12, 8, 14], 'SP': [16, 10, 7, 11, 9, 12, 7, 10]}\n",
            "{'MG': 54, 'RJ': 22, 'ES': 58, 'SP': 82}\n"
          ]
        }
      ]
    },
    {
      "cell_type": "markdown",
      "source": [
        "## Lidando com Exceções"
      ],
      "metadata": {
        "id": "cVG8xTUyhlNB"
      }
    },
    {
      "cell_type": "markdown",
      "source": [
        "1. Faça um programa que solicite à pessoa usuária digitar dois números float e calcular a divisão entre esses números. O código deve conter um tratamento de erro, indicando o tipo de erro que foi gerado caso a divisão não seja possível de realizar.\n",
        "\n",
        "  Teste o programa com o segundo valor numérico do input igual a 0. Também teste utilizando caracteres textuais no input para checar os tipos de erro que ocorrem."
      ],
      "metadata": {
        "id": "XCGzIy-McJ1o"
      }
    },
    {
      "cell_type": "code",
      "source": [
        "try:\n",
        "    numero_1 = float(input())\n",
        "    numero_2 = float(input())\n",
        "    divisao = numero_1 / numero_2\n",
        "except Exception as e:\n",
        "    print(type(e), f'Erro: {e}')"
      ],
      "metadata": {
        "id": "VpfQxF6whpjr",
        "colab": {
          "base_uri": "https://localhost:8080/"
        },
        "outputId": "c05cc99a-88da-4317-ac9f-dc2862cad624"
      },
      "execution_count": 2,
      "outputs": [
        {
          "output_type": "stream",
          "name": "stdout",
          "text": [
            "7\n",
            "0\n",
            "<class 'ZeroDivisionError'> Erro: float division by zero\n"
          ]
        }
      ]
    },
    {
      "cell_type": "markdown",
      "source": [
        "2. Faça um programa que solicite à pessoa usuária digitar um texto que será uma chave a ser pesquisada no seguinte dicionário: idades = {'Júlia': 16, 'Carol': 23, 'Alberto': 19, 'Roberta': 17}, armazenando o resultado do valor em uma variável. O código deve conter um tratamento de erro KeyError, imprimindo a informação 'Nome não encontrado', caso ocorra o erro; e imprimir o valor caso não ocorra nenhum.\n",
        "\n",
        "  Teste o programa com um nome presente em uma das chaves do dicionário e com um que não esteja no dicionário para verificar a mensagem de erro."
      ],
      "metadata": {
        "id": "OXUrmBFWcOx5"
      }
    },
    {
      "cell_type": "code",
      "source": [
        "idades = {'Júlia': 16, 'Carol': 23, 'Alberto': 19, 'Roberta': 17}\n",
        "\n",
        "try:\n",
        "    chave = input()\n",
        "    valor = idades[chave]\n",
        "except KeyError:\n",
        "    print('Nome não encontrado')\n",
        "else:\n",
        "    print(valor)"
      ],
      "metadata": {
        "id": "j4tRqqD7hpnf",
        "colab": {
          "base_uri": "https://localhost:8080/"
        },
        "outputId": "dfc26f41-385a-4c5a-ecd4-d6143c8f1342"
      },
      "execution_count": 4,
      "outputs": [
        {
          "output_type": "stream",
          "name": "stdout",
          "text": [
            "Pat\n",
            "Nome não encontrado\n"
          ]
        }
      ]
    },
    {
      "cell_type": "markdown",
      "source": [
        "3. Crie uma função que recebe uma lista como parâmetro e converta todos os valores da lista para float. A função deve conter um tratamento de erro indicando o tipo de erro gerado e retornar a lista caso não tenha ocorrido nenhum erro. Por fim, deve ter a cláusula finally para imprimir o texto: 'Fim da execução da função'."
      ],
      "metadata": {
        "id": "KxM-JAc1cVHs"
      }
    },
    {
      "cell_type": "code",
      "source": [
        "def converte_lista(lista):\n",
        "    try:\n",
        "        nova_lista = [float(elemento) for elemento in lista]\n",
        "    except Exception as e:\n",
        "        print(type(e), f'Erro: {e}')\n",
        "    else:\n",
        "        return nova_lista\n",
        "    finally:\n",
        "        print('Fim da execução da função')"
      ],
      "metadata": {
        "id": "4lAYEohAcX1L"
      },
      "execution_count": 6,
      "outputs": []
    },
    {
      "cell_type": "code",
      "source": [
        "teste = [2, 4, 6, 8]\n",
        "\n",
        "converte_lista(teste)"
      ],
      "metadata": {
        "colab": {
          "base_uri": "https://localhost:8080/"
        },
        "id": "JlY6FgjDXEdR",
        "outputId": "fff3d13d-35a1-44e7-f8d0-1222e58627e9"
      },
      "execution_count": 7,
      "outputs": [
        {
          "output_type": "stream",
          "name": "stdout",
          "text": [
            "Fim da execução da função\n"
          ]
        },
        {
          "output_type": "execute_result",
          "data": {
            "text/plain": [
              "[2.0, 4.0, 6.0, 8.0]"
            ]
          },
          "metadata": {},
          "execution_count": 7
        }
      ]
    },
    {
      "cell_type": "markdown",
      "source": [
        "4. Crie uma função que recebe duas listas como parâmetros e agrupe os elementos um a um das listas, formando uma lista de tuplas de 3 elementos, no qual o primeiro e segundo elemento da tupla são os valores na posição i das listas e o terceiro elemento é a soma dos valores na posição i das listas.\n",
        "\n",
        "  A função deve conter um tratamento de erro indicando o tipo de erro gerado e retornar como resultado a lista de tuplas. Caso as listas enviadas como parâmetro tenham tamanhos diferentes, a função deve retornar um IndexError com a frase: 'A quantidade de elementos em cada lista é diferente.' Dados para testar a função:"
      ],
      "metadata": {
        "id": "cIYnzbXXcYOF"
      }
    },
    {
      "cell_type": "code",
      "source": [
        "def soma_listas(lista1, lista2):\n",
        "    try:\n",
        "        if len(lista1) == len(lista2):\n",
        "            dados = [(lista1[i], lista2[i], lista1[i]+lista2[i]) for i in range(len(lista1))]\n",
        "        else:\n",
        "            raise IndexError('A quantidade de elementos em cada lista é diferente.')\n",
        "    except Exception as e:\n",
        "        print(type(e), f'Erro: {e}')\n",
        "    else:\n",
        "        return dados"
      ],
      "metadata": {
        "id": "VUe3-SgeXXAv"
      },
      "execution_count": 9,
      "outputs": []
    },
    {
      "cell_type": "code",
      "source": [
        "# Valores sem erro:\n",
        "\n",
        "lista1 = [4,6,7,9,10]\n",
        "lista2 = [-4,6,8,7,9]\n",
        "\n",
        "soma_listas(lista1, lista2)"
      ],
      "metadata": {
        "colab": {
          "base_uri": "https://localhost:8080/"
        },
        "id": "pECBgGo6qRud",
        "outputId": "80c1b9c1-a6db-462e-dbcd-e49ad28c01ad"
      },
      "execution_count": 10,
      "outputs": [
        {
          "output_type": "execute_result",
          "data": {
            "text/plain": [
              "[(4, -4, 0), (6, 6, 12), (7, 8, 15), (9, 7, 16), (10, 9, 19)]"
            ]
          },
          "metadata": {},
          "execution_count": 10
        }
      ]
    },
    {
      "cell_type": "code",
      "source": [
        "# Listas com tamanhos diferentes:\n",
        "\n",
        "lista1 = [4,6,7,9,10,4]\n",
        "lista2 = [-4,6,8,7,9]\n",
        "\n",
        "soma_listas(lista1, lista2)"
      ],
      "metadata": {
        "colab": {
          "base_uri": "https://localhost:8080/"
        },
        "id": "OqguDYNCqSGo",
        "outputId": "3c8a3874-fa71-481e-a9ef-3d29db1e8847"
      },
      "execution_count": 11,
      "outputs": [
        {
          "output_type": "stream",
          "name": "stdout",
          "text": [
            "<class 'IndexError'> Erro: A quantidade de elementos em cada lista é diferente.\n"
          ]
        }
      ]
    },
    {
      "cell_type": "code",
      "source": [
        "# Listas com valores incoerentes:\n",
        "\n",
        "lista1 = [4,6,7,9,'A']\n",
        "lista2 = [-4,'E',8,7,9]\n",
        "\n",
        "soma_listas(lista1, lista2)"
      ],
      "metadata": {
        "colab": {
          "base_uri": "https://localhost:8080/"
        },
        "id": "ZveTn9k3qakv",
        "outputId": "b00b7bd0-1b02-4352-c058-0f14d07867df"
      },
      "execution_count": 12,
      "outputs": [
        {
          "output_type": "stream",
          "name": "stdout",
          "text": [
            "<class 'TypeError'> Erro: unsupported operand type(s) for +: 'int' and 'str'\n"
          ]
        }
      ]
    },
    {
      "cell_type": "markdown",
      "source": [
        "5. Como desafio, você recebeu a tarefa de desenvolver um código que contabiliza as pontuações de estudantes de uma instituição de ensino de acordo com suas respostas num teste. Este código deve ser testado para um exemplo de 3 estudantes com uma lista de listas em que cada lista possui as respostas de 5 questões objetivas de cada estudante. Cada questão vale um ponto e as alternativas possíveis são A, B, C ou D.\n",
        "\n",
        "  Caso alguma alternativa em um dos testes não esteja entre as alternativas possíveis, você deve lançar um ValueError com a mensagem \"A alternativa [alternativa] não é uma opção de alternativa válida\". O cálculo das 3 notas só será realizado mediante as entradas com as alternativas A, B, C ou D em todos os testes. Se não for lançada a exceção, será exibida uma lista com as notas em cada teste.\n",
        "\n",
        "  Dica: Para verificar se uma entrada da lista não está entre as alternativas possíveis, use a estrutura lista[i] not in ['A','B','C','D']. Por exemplo, 1 not in [2,3,4]... Saída: True."
      ],
      "metadata": {
        "id": "NDBGY1JhqhNm"
      }
    },
    {
      "cell_type": "code",
      "source": [
        "gabarito = ['D', 'A', 'B', 'C', 'A']\n",
        "\n",
        "# Criando a função que recebe a lista de listas com as notas dos estudantes\n",
        "def corretor(testes: list):\n",
        "  pontuacoes = [] # criando a lista que receberá as pontuações caso a exceção não seja lançada\n",
        "  try:\n",
        "    for teste in testes:\n",
        "      nota = 0 # variável que acumula a nota de cada estudante\n",
        "      for i in range(len(teste)):\n",
        "        if teste[i] not in ['A', 'B', 'C', 'D']: # Verificamos se temos uma alternativa valida\n",
        "          raise ValueError(f'A alternativa {teste[i]} não é uma opção de alternativa válida')\n",
        "        elif teste[i] == gabarito[i]: # Verificamos se as respostas são iguais e adicionamos à nota\n",
        "          nota += 1\n",
        "      pontuacoes.append(nota) # adicionamos a nota do(a) estudante na lista de pontuações\n",
        "  except Exception as e:\n",
        "    print(e)\n",
        "  else:\n",
        "    return pontuacoes # retornando a lista de pontuações se não lançarmos a exceção"
      ],
      "metadata": {
        "id": "LlIhq2lLYCj8"
      },
      "execution_count": 13,
      "outputs": []
    },
    {
      "cell_type": "code",
      "source": [
        "# Gabarito da prova:\n",
        "\n",
        "gabarito = ['D', 'A', 'B', 'C', 'A']\n",
        "\n",
        "corretor(gabarito)"
      ],
      "metadata": {
        "colab": {
          "base_uri": "https://localhost:8080/"
        },
        "id": "gw8ESiQ9qahT",
        "outputId": "395d2f74-0177-4757-eec9-bf60c300bbe8"
      },
      "execution_count": 14,
      "outputs": [
        {
          "output_type": "execute_result",
          "data": {
            "text/plain": [
              "[1, 0, 0, 0, 0]"
            ]
          },
          "metadata": {},
          "execution_count": 14
        }
      ]
    },
    {
      "cell_type": "code",
      "source": [
        "# Notas sem exceção:\n",
        "\n",
        "testes_sem_ex = [['D', 'A', 'B', 'C', 'A'], ['C', 'A', 'A', 'C', 'A'], ['D', 'B', 'A', 'C', 'A']]\n",
        "\n",
        "corretor(testes_sem_ex)"
      ],
      "metadata": {
        "colab": {
          "base_uri": "https://localhost:8080/"
        },
        "id": "RHzMw3uTqqwc",
        "outputId": "561fae23-7f44-4633-e1bc-a1c0048e91a7"
      },
      "execution_count": 15,
      "outputs": [
        {
          "output_type": "execute_result",
          "data": {
            "text/plain": [
              "[5, 3, 3]"
            ]
          },
          "metadata": {},
          "execution_count": 15
        }
      ]
    },
    {
      "cell_type": "code",
      "source": [
        "# Notas com exceção:\n",
        "\n",
        "testes_com_ex = [['D', 'A', 'B', 'C', 'A'], ['C', 'A', 'A', 'E', 'A'], ['D', 'B', 'A', 'C', 'A']]\n",
        "\n",
        "corretor(testes_com_ex)"
      ],
      "metadata": {
        "colab": {
          "base_uri": "https://localhost:8080/"
        },
        "id": "amJCXLaHqqsk",
        "outputId": "9da5f78a-7af4-49d1-dd1a-0ae69778231b"
      },
      "execution_count": 16,
      "outputs": [
        {
          "output_type": "stream",
          "name": "stdout",
          "text": [
            "A alternativa E não é uma opção de alternativa válida\n"
          ]
        }
      ]
    },
    {
      "cell_type": "markdown",
      "source": [
        "6. Você está trabalhando com processamento de linguagem natural (NLP) e, dessa vez, sua líder requisitou que você criasse um trecho de código que recebe uma lista com as palavras separadas de uma frase gerada pelo ChatGPT.\n",
        "\n",
        "  Você precisa criar uma função que avalia cada palavra desse texto e verificar se o tratamento para retirar os símbolos de pontuação (',' '.', '!' e '?') foi realizado. Caso contrário, será lançada uma exceção do tipo ValueError apontando o 1º caso em que foi detectado o uso de uma pontuação por meio da frase \"O texto apresenta pontuações na palavra \"[palavra]\".\". Essa demanda é voltada para a análise do padrão de frases geradas pela inteligência artificial.\n",
        "\n",
        "  Dica: Para verificar se uma ou mais das pontuações estão presentes em cada palavra, utilize a palavra chave or na condição if. Por exemplo, 'a' in 'alura' or 'b' in 'alura'… Saída: True"
      ],
      "metadata": {
        "id": "uzByQ-uU4zdw"
      }
    },
    {
      "cell_type": "code",
      "source": [
        "# criando a função que recebe a lista de palavras\n",
        "def avalia_texto(texto: list):\n",
        "    for palavra in texto:\n",
        "        if ',' in palavra or '.' in palavra or '!' in palavra or '?' in palavra:\n",
        "            raise ValueError(f'O texto apresenta pontuações na palavra \"{palavra}\".')\n",
        "    return \"Texto já tratado!\" # retornando a verificação se não lançada a exceção"
      ],
      "metadata": {
        "id": "uJGcQrPVYdoV"
      },
      "execution_count": 17,
      "outputs": []
    },
    {
      "cell_type": "code",
      "source": [
        "# Lista tratada:\n",
        "\n",
        "lista_tratada = ['Python', 'é', 'uma', 'linguagem', 'de', 'programação', 'poderosa', 'versátil',\n",
        "                  'e', 'fácil', 'de', 'aprender', 'utilizada', 'em', 'diversos', 'campos', 'desde',\n",
        "                  'análise', 'de', 'dados', 'até', 'inteligência', 'artificial']\n",
        "\n",
        "try:\n",
        "  avaliacao = avalia_texto(lista_tratada)\n",
        "except Exception as e:\n",
        "  print(e)\n",
        "else:\n",
        "  print(avaliacao)"
      ],
      "metadata": {
        "colab": {
          "base_uri": "https://localhost:8080/"
        },
        "id": "iQCHyVI_4sf3",
        "outputId": "b065d0a1-5d8f-4955-e118-2add317ead4d"
      },
      "execution_count": 20,
      "outputs": [
        {
          "output_type": "stream",
          "name": "stdout",
          "text": [
            "Texto já tratado!\n"
          ]
        }
      ]
    },
    {
      "cell_type": "code",
      "source": [
        "# Lista não tratada:\n",
        "\n",
        "lista_nao_tratada = ['Python', 'é', 'uma', 'linguagem', 'de', 'programação', 'poderosa,', 'versátil',\n",
        "                  'e', 'fácil,', 'de', 'aprender', 'utilizada', 'em', 'diversos', 'campos,', 'desde',\n",
        "                  'análise', 'de', 'dados', 'até', 'inteligência', 'artificial!']\n",
        "\n",
        "try:\n",
        "  avaliacao = avalia_texto(lista_nao_tratada)\n",
        "except Exception as e:\n",
        "  print(e)\n",
        "else:\n",
        "  print(avaliacao)"
      ],
      "metadata": {
        "colab": {
          "base_uri": "https://localhost:8080/"
        },
        "id": "_VnCEcpy5AJ3",
        "outputId": "f7dfb019-b6e6-4966-e904-c60e15e14900"
      },
      "execution_count": 21,
      "outputs": [
        {
          "output_type": "stream",
          "name": "stdout",
          "text": [
            "O texto apresenta pontuações na palavra \"poderosa,\".\n"
          ]
        }
      ]
    },
    {
      "cell_type": "markdown",
      "source": [
        "7. Você foi contratado(a) como uma pessoa cientista de dados para auxiliar um laboratório que faz experimentos sobre o comportamento de uma cultura de fungos. O laboratório precisa avaliar constantemente a razão (divisão) entre os dados de pressão e temperatura do ambiente controlado recolhidos durante a experimentação para definir a melhor condição para os testes.\n",
        "\n",
        "  Para cumprir com a demanda, você precisa criar uma função divide_colunas que recebe os dados das colunas de pressão e temperatura (que vem no formato de listas) e gerar uma nova coluna com o resultado da divisão. Os parâmetros da função são as duas listas e você deve tratar dentro dela ao menos 2 tipos de exceções:\n",
        "\n",
        "  * Verificar se as listas têm o mesmo tamanho (ValueError)\n",
        "  * Verificar se existe alguma divisão por zero (ZeroDivisionError)\n",
        "\n",
        "  Para testar a função, vamos realizar a divisão entre duas listas de dados coletados no experimento, com os valores de pressão e temperatura do ambiente controlado."
      ],
      "metadata": {
        "id": "0RGvkhOn5Gan"
      }
    },
    {
      "cell_type": "code",
      "source": [
        "# criando a função que recebe as duas listas e a operação a ser realizada\n",
        "def divide_colunas(lista_1: list, lista_2: list) -> list:\n",
        "  # try-except que verifica se é possível calcular a divisão e lança exceção se as listas tem tamanhos diferentes\n",
        "  # ou se temos alguma divisão por zero em um dos cálculos entre os números das listas\n",
        "  try:\n",
        "    if len(lista_1) != len(lista_2): # Verificando se as listas tem o mesmo tamanho, se não lança uma exceção\n",
        "      raise ValueError(\"As listas precisam ter o mesmo tamanho\")\n",
        "\n",
        "    # A função zip pareia os elementos das listas e uma lista é gerada por meio da razão entre os pares\n",
        "    resultado = [round(a / b, 2) for a, b in zip(lista_1, lista_2)]\n",
        "  except ValueError as e:\n",
        "    print(e)\n",
        "  except ZeroDivisionError as e:\n",
        "    print(f\"{e}: A 2ª lista não pode possuir um valor igual a 0\")\n",
        "  else:\n",
        "    return resultado"
      ],
      "metadata": {
        "id": "DzN6-c5fbljH"
      },
      "execution_count": 22,
      "outputs": []
    },
    {
      "cell_type": "code",
      "source": [
        "# Dados sem exceção:\n",
        "\n",
        "pressoes = [100, 120, 140, 160, 180]\n",
        "temperaturas = [20, 25, 30, 35, 40]\n",
        "\n",
        "divide_colunas(pressoes, temperaturas)"
      ],
      "metadata": {
        "colab": {
          "base_uri": "https://localhost:8080/"
        },
        "id": "2CI3DrQY9pu3",
        "outputId": "233f9759-9ca5-4f24-b487-103171e1e0ed"
      },
      "execution_count": 23,
      "outputs": [
        {
          "output_type": "execute_result",
          "data": {
            "text/plain": [
              "[5.0, 4.8, 4.67, 4.57, 4.5]"
            ]
          },
          "metadata": {},
          "execution_count": 23
        }
      ]
    },
    {
      "cell_type": "code",
      "source": [
        "# Exceção de ZeroDivisionError\n",
        "\n",
        "pressoes = [60, 120, 140, 160, 180]\n",
        "temperaturas = [0, 25, 30, 35, 40]\n",
        "\n",
        "divide_colunas(pressoes, temperaturas)"
      ],
      "metadata": {
        "colab": {
          "base_uri": "https://localhost:8080/"
        },
        "id": "Hfq3CRzz9qG-",
        "outputId": "8954d798-d190-4d0b-df0a-e73df1f9b186"
      },
      "execution_count": 24,
      "outputs": [
        {
          "output_type": "stream",
          "name": "stdout",
          "text": [
            "division by zero: A 2ª lista não pode possuir um valor igual a 0\n"
          ]
        }
      ]
    },
    {
      "cell_type": "code",
      "source": [
        "# Exceção de ValueError\n",
        "\n",
        "pressoes = [100, 120, 140, 160]\n",
        "temperaturas = [20, 25, 30, 35, 40]\n",
        "\n",
        "divide_colunas(pressoes, temperaturas)"
      ],
      "metadata": {
        "colab": {
          "base_uri": "https://localhost:8080/"
        },
        "id": "pR3IHB6v_NMH",
        "outputId": "f27c2d90-e37b-4cdd-efaf-1fd7b12dc69c"
      },
      "execution_count": 25,
      "outputs": [
        {
          "output_type": "stream",
          "name": "stdout",
          "text": [
            "As listas precisam ter o mesmo tamanho\n"
          ]
        }
      ]
    }
  ]
}